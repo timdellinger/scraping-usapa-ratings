{
 "cells": [
  {
   "cell_type": "markdown",
   "metadata": {},
   "source": [
    "Code to scrape USAPA ratings data\n",
    "\n",
    "One pain the the butt that comes with using Selenium:\n",
    "you'll need to install geckodriver.exe for Firefox or chromedriver.exe for Chrome\n",
    "and then put them in your %path variable.\n",
    "\n",
    "I've hard-coded both the location of chromedriver.exe and the folder to drop the files into."
   ]
  },
  {
   "cell_type": "code",
   "execution_count": 36,
   "metadata": {},
   "outputs": [],
   "source": [
    "from selenium import webdriver\n",
    "# import time"
   ]
  },
  {
   "cell_type": "code",
   "execution_count": 15,
   "metadata": {},
   "outputs": [],
   "source": [
    "# for Firefox\n",
    "# driver = webdriver.Firefox(\"C:/Users/Tim/chromedriver/geckodriver.exe\")"
   ]
  },
  {
   "cell_type": "code",
   "execution_count": 14,
   "metadata": {},
   "outputs": [],
   "source": [
    "# For Chrome\n",
    "driver = webdriver.Chrome(\"C:/Users/Tim/chromedriver/chromedriver.exe\")"
   ]
  },
  {
   "cell_type": "code",
   "execution_count": 17,
   "metadata": {},
   "outputs": [],
   "source": [
    "driver.get(\"https://www.memberleap.com/members/ratings/index.php\")"
   ]
  },
  {
   "cell_type": "markdown",
   "metadata": {},
   "source": [
    "And then you log in with your username and password\n",
    "\n",
    "Next run the following loop.  It turns out that selenium will automatically\n",
    " wait until the page is loaded before proceeding, so sleep() isn't\n",
    " neccessary.  Also: it was throwing an error upon attempting to save,\n",
    " so I included the encoding=\"utf-8\" per a stackoverflow comment."
   ]
  },
  {
   "cell_type": "code",
   "execution_count": 44,
   "metadata": {},
   "outputs": [
    {
     "name": "stdout",
     "output_type": "stream",
     "text": [
      "loading doubles_lvl 2.5\n",
      "loading doubles_lvl 3\n",
      "loading doubles_lvl 3.5\n",
      "loading doubles_lvl 4\n",
      "loading doubles_lvl 4.5\n",
      "loading doubles_lvl 5\n",
      "loading doubles_lvl 5.5\n",
      "loading doubles_lvl 6\n",
      "loading mixed_lvl 2.5\n",
      "loading mixed_lvl 3\n",
      "loading mixed_lvl 3.5\n",
      "loading mixed_lvl 4\n",
      "loading mixed_lvl 4.5\n",
      "loading mixed_lvl 5\n",
      "loading mixed_lvl 5.5\n",
      "loading mixed_lvl 6\n",
      "loading singles_lvl 2.5\n",
      "loading singles_lvl 3\n",
      "loading singles_lvl 3.5\n",
      "loading singles_lvl 4\n",
      "loading singles_lvl 4.5\n",
      "loading singles_lvl 5\n",
      "loading singles_lvl 5.5\n",
      "loading singles_lvl 6\n"
     ]
    }
   ],
   "source": [
    "for i in ['doubles_lvl', 'mixed_lvl', 'singles_lvl']:\n",
    "    for j in ['2.5','3','3.5','4','4.5','5','5.5','6']:\n",
    "        print('loading {} {}'.format(i,j)) \n",
    "\n",
    "        inputElement = driver.find_element_by_name(\"type\")\n",
    "        inputElement.send_keys(i)\n",
    "        \n",
    "        inputElement = driver.find_element_by_name(\"rating\")\n",
    "        inputElement.send_keys(j)\n",
    "        \n",
    "        inputElement = driver.find_element_by_name(\"Search\")\n",
    "        inputElement.submit()\n",
    "        \n",
    "        # time.sleep(30)\n",
    "        \n",
    "        with open(r\"C:/Tim/pickleball/new ratings system/... scraping scripts/USAPA Pickleball {} {}.html\".format(i,j), \"w\", encoding=\"utf-8\") as f:\n",
    "            f.write(driver.page_source)\n",
    "        \n",
    "        \n",
    "        "
   ]
  },
  {
   "cell_type": "markdown",
   "metadata": {},
   "source": [
    "That should do it!"
   ]
  },
  {
   "cell_type": "code",
   "execution_count": 45,
   "metadata": {},
   "outputs": [],
   "source": [
    "driver.close()"
   ]
  },
  {
   "cell_type": "code",
   "execution_count": null,
   "metadata": {},
   "outputs": [],
   "source": []
  },
  {
   "cell_type": "markdown",
   "metadata": {},
   "source": [
    "The rest is my scratch work:"
   ]
  },
  {
   "cell_type": "markdown",
   "metadata": {},
   "source": [
    "now we select \"type\" and \"rating\"\n",
    "\n",
    "type = doubles_lvl mixed_lvl singles_lvl"
   ]
  },
  {
   "cell_type": "code",
   "execution_count": 18,
   "metadata": {},
   "outputs": [],
   "source": [
    "inputElement = driver.find_element_by_name(\"type\")"
   ]
  },
  {
   "cell_type": "code",
   "execution_count": 19,
   "metadata": {},
   "outputs": [],
   "source": [
    "inputElement.send_keys(\"singles_lvl\")"
   ]
  },
  {
   "cell_type": "code",
   "execution_count": 20,
   "metadata": {},
   "outputs": [],
   "source": [
    "inputElement = driver.find_element_by_name(\"rating\")"
   ]
  },
  {
   "cell_type": "code",
   "execution_count": 21,
   "metadata": {},
   "outputs": [],
   "source": [
    "inputElement.send_keys(\"3\")"
   ]
  },
  {
   "cell_type": "code",
   "execution_count": 27,
   "metadata": {},
   "outputs": [],
   "source": [
    "inputElement = driver.find_element_by_name(\"Search\")"
   ]
  },
  {
   "cell_type": "code",
   "execution_count": 26,
   "metadata": {},
   "outputs": [],
   "source": [
    "inputElement.send_keys(\"Search\")"
   ]
  },
  {
   "cell_type": "code",
   "execution_count": 28,
   "metadata": {},
   "outputs": [],
   "source": [
    "inputElement.submit()"
   ]
  },
  {
   "cell_type": "code",
   "execution_count": 42,
   "metadata": {},
   "outputs": [],
   "source": [
    "with open(\"C:/Tim/pickleball/new ratings system/... scraping scripts/test1.html\", \"w\",encoding=\"utf-8\") as f:\n",
    "    f.write(driver.page_source)"
   ]
  },
  {
   "cell_type": "code",
   "execution_count": 29,
   "metadata": {},
   "outputs": [],
   "source": [
    "with open(\"C:/Tim/pickleball/new ratings system/... scraping scripts/test1.html\", \"w\") as f:\n",
    "    f.write(driver.page_source)"
   ]
  },
  {
   "cell_type": "code",
   "execution_count": 30,
   "metadata": {},
   "outputs": [],
   "source": [
    "driver.implicitly_wait(10)"
   ]
  },
  {
   "cell_type": "code",
   "execution_count": 37,
   "metadata": {},
   "outputs": [
    {
     "name": "stdout",
     "output_type": "stream",
     "text": [
      "done\n"
     ]
    }
   ],
   "source": [
    "time.sleep(10)\n",
    "print(\"done\")"
   ]
  }
 ],
 "metadata": {
  "kernelspec": {
   "display_name": "Python 3",
   "language": "python",
   "name": "python3"
  },
  "language_info": {
   "codemirror_mode": {
    "name": "ipython",
    "version": 3
   },
   "file_extension": ".py",
   "mimetype": "text/x-python",
   "name": "python",
   "nbconvert_exporter": "python",
   "pygments_lexer": "ipython3",
   "version": "3.5.4"
  }
 },
 "nbformat": 4,
 "nbformat_minor": 2
}
